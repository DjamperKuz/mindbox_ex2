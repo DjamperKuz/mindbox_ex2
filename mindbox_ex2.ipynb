{
  "nbformat": 4,
  "nbformat_minor": 0,
  "metadata": {
    "colab": {
      "provenance": []
    },
    "kernelspec": {
      "name": "python3",
      "display_name": "Python 3"
    },
    "language_info": {
      "name": "python"
    }
  },
  "cells": [
    {
      "cell_type": "code",
      "execution_count": 1,
      "metadata": {
        "id": "LgWSiuhu571P"
      },
      "outputs": [],
      "source": [
        "!apt-get install openjdk-8-jdk-headless -qq > /dev/null\n",
        "!wget -q https://downloads.apache.org/spark/spark-3.5.0/spark-3.5.0-bin-hadoop3.tgz\n",
        "!tar xf spark-3.5.0-bin-hadoop3.tgz"
      ]
    },
    {
      "cell_type": "code",
      "source": [
        "import os\n",
        "os.environ[\"JAVA_HOME\"] = \"/usr/lib/jvm/java-8-openjdk-amd64\"\n",
        "os.environ[\"SPARK_HOME\"] = \"/content/spark-3.5.0-bin-hadoop3\""
      ],
      "metadata": {
        "id": "6e3nS6W67FLS"
      },
      "execution_count": 2,
      "outputs": []
    },
    {
      "cell_type": "code",
      "source": [
        "!pip install findspark"
      ],
      "metadata": {
        "colab": {
          "base_uri": "https://localhost:8080/"
        },
        "id": "qlQRI_p-7OdI",
        "outputId": "fcf1dc65-08c4-4b1d-a132-2348ac00d3bb"
      },
      "execution_count": 3,
      "outputs": [
        {
          "output_type": "stream",
          "name": "stdout",
          "text": [
            "Collecting findspark\n",
            "  Downloading findspark-2.0.1-py2.py3-none-any.whl (4.4 kB)\n",
            "Installing collected packages: findspark\n",
            "Successfully installed findspark-2.0.1\n"
          ]
        }
      ]
    },
    {
      "cell_type": "code",
      "source": [
        "import findspark"
      ],
      "metadata": {
        "id": "qLM7damX71iF"
      },
      "execution_count": 4,
      "outputs": []
    },
    {
      "cell_type": "code",
      "source": [
        "findspark.init('spark-3.5.0-bin-hadoop3')"
      ],
      "metadata": {
        "id": "PwuSqEa27wJ4"
      },
      "execution_count": 5,
      "outputs": []
    },
    {
      "cell_type": "code",
      "source": [
        "from pyspark.sql import SparkSession\n",
        "from pyspark.sql.functions import col, explode\n",
        "\n",
        "# создание SparkSession\n",
        "spark = SparkSession.builder.appName(\"ProductCategory\").getOrCreate()\n",
        "\n",
        "# пример DataFrame с данными\n",
        "data = [(\"Продукт1\", [\"Категория1\", \"Категория2\"]),\n",
        "        (\"Продукт2\", [\"Категория2\", \"Категория3\"]),\n",
        "        (\"Продукт3\", []),\n",
        "        (\"Продукт4\", [\"Категория1\"]),\n",
        "        (\"Продукт5\", [\"Категория4\"])]\n",
        "\n",
        "schema = [\"Название продукта\", \"Категория\"]\n",
        "\n",
        "df = spark.createDataFrame(data, schema)\n",
        "\n",
        "# разделение списока категорий на отдельные строки\n",
        "df_exploded = df.select(col(\"Название продукта\"), explode(col(\"Категория\")).alias(\"Категория\"))\n",
        "\n",
        "# приведение к одномутипу данных\n",
        "df_exploded = df_exploded.withColumn(\"Категория\", df_exploded[\"Категория\"].cast(\"string\"))\n",
        "\n",
        "# создание DataFrame с продуктами без категорий\n",
        "df_with_empty_categories = df.filter((col(\"Категория\").cast(\"string\") == \"[]\"))\n",
        "\n",
        "# приведение к одномутипу данных\n",
        "df_with_empty_categories = df_with_empty_categories.withColumn(\"Категория\", df_with_empty_categories[\"Категория\"].cast(\"string\"))\n",
        "\n",
        "# объеденение двух DataFrames\n",
        "result_df = df_exploded.union(df_with_empty_categories)\n",
        "\n",
        "result_df.show()\n"
      ],
      "metadata": {
        "colab": {
          "base_uri": "https://localhost:8080/"
        },
        "id": "fe8JW3n_NEbw",
        "outputId": "d181944d-3a53-476e-c4c5-cb159b364eed"
      },
      "execution_count": 6,
      "outputs": [
        {
          "output_type": "stream",
          "name": "stdout",
          "text": [
            "+-----------------+----------+\n",
            "|Название продукта| Категория|\n",
            "+-----------------+----------+\n",
            "|         Продукт1|Категория1|\n",
            "|         Продукт1|Категория2|\n",
            "|         Продукт2|Категория2|\n",
            "|         Продукт2|Категория3|\n",
            "|         Продукт4|Категория1|\n",
            "|         Продукт5|Категория4|\n",
            "|         Продукт3|        []|\n",
            "+-----------------+----------+\n",
            "\n"
          ]
        }
      ]
    }
  ]
}